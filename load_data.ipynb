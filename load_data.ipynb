{
 "cells": [
  {
   "cell_type": "code",
   "execution_count": 1,
   "metadata": {},
   "outputs": [],
   "source": [
    "import pandas as pd"
   ]
  },
  {
   "cell_type": "code",
   "execution_count": 2,
   "metadata": {},
   "outputs": [],
   "source": [
    "train = pd.read_json(\"deg_train.json\",lines=True)"
   ]
  },
  {
   "cell_type": "code",
   "execution_count": 4,
   "metadata": {},
   "outputs": [
    {
     "data": {
      "text/plain": [
       "Index(['index', 'id', 'sequence', 'structure', 'predicted_loop_type',\n",
       "       'signal_to_noise', 'SN_filter', 'seq_length', 'seq_scored',\n",
       "       'reactivity_error', 'deg_error_Mg_pH10', 'deg_error_pH10',\n",
       "       'deg_error_Mg_50C', 'deg_error_50C', 'reactivity', 'deg_Mg_pH10',\n",
       "       'deg_pH10', 'deg_Mg_50C', 'deg_50C'],\n",
       "      dtype='object')"
      ]
     },
     "execution_count": 4,
     "metadata": {},
     "output_type": "execute_result"
    }
   ],
   "source": [
    "train.columns"
   ]
  },
  {
   "cell_type": "code",
   "execution_count": 17,
   "metadata": {},
   "outputs": [
    {
     "data": {
      "text/plain": [
       "0       [0.3297, 1.5693000000000001, 1.1227, 0.8686, 0...\n",
       "1       [0.0, 0.0, 0.0, 2.2965, 0.0, 0.0, 0.0, 0.0, 0....\n",
       "2       [0.44820000000000004, 1.4822, 1.1819, 0.743400...\n",
       "3       [0.0, 2.2399, 0.0, 0.0, 0.0, 0.0, 0.0, 0.0, 0....\n",
       "4       [0.8267, 2.6577, 2.8481, 0.40090000000000003, ...\n",
       "                              ...                        \n",
       "2395    [0.6957, 1.251, 1.3235999999999999, 0.7521, 0....\n",
       "2396    [0.2891, 0.4496, 0.7165, 0.7128, 0.59310000000...\n",
       "2397    [1.6204, 1.7046000000000001, 0.6201, 0.795, 0....\n",
       "2398    [0.6919000000000001, 1.4823, 1.3685, 1.2473, 0...\n",
       "2399    [1.0102, 1.7928000000000002, 1.9228, 0.9649000...\n",
       "Name: reactivity, Length: 2400, dtype: object"
      ]
     },
     "execution_count": 17,
     "metadata": {},
     "output_type": "execute_result"
    }
   ],
   "source": [
    "train.reactivity"
   ]
  },
  {
   "cell_type": "code",
   "execution_count": null,
   "metadata": {},
   "outputs": [],
   "source": []
  }
 ],
 "metadata": {
  "kernelspec": {
   "display_name": "base",
   "language": "python",
   "name": "python3"
  },
  "language_info": {
   "codemirror_mode": {
    "name": "ipython",
    "version": 3
   },
   "file_extension": ".py",
   "mimetype": "text/x-python",
   "name": "python",
   "nbconvert_exporter": "python",
   "pygments_lexer": "ipython3",
   "version": "3.9.12"
  }
 },
 "nbformat": 4,
 "nbformat_minor": 2
}
