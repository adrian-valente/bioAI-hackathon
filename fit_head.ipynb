{
 "cells": [
  {
   "cell_type": "code",
   "execution_count": 1,
   "metadata": {
    "execution": {
     "iopub.execute_input": "2023-10-18T15:45:32.518413Z",
     "iopub.status.busy": "2023-10-18T15:45:32.517862Z",
     "iopub.status.idle": "2023-10-18T15:45:37.234577Z",
     "shell.execute_reply": "2023-10-18T15:45:37.233016Z"
    },
    "id": "gIGfpcNo0BLF"
   },
   "outputs": [],
   "source": [
    "import numpy as np\n",
    "import pandas as pd\n",
    "from tqdm import tqdm\n",
    "from sklearn.linear_model import LassoCV\n",
    "from sklearn.preprocessing import OneHotEncoder\n",
    "import pickle\n",
    "import os\n",
    "\n",
    "from transformers import AutoTokenizer, AutoModelForMaskedLM\n",
    "import torch"
   ]
  },
  {
   "cell_type": "code",
   "execution_count": 2,
   "metadata": {
    "execution": {
     "iopub.execute_input": "2023-10-18T15:45:37.240914Z",
     "iopub.status.busy": "2023-10-18T15:45:37.240343Z",
     "iopub.status.idle": "2023-10-18T15:46:19.324651Z",
     "shell.execute_reply": "2023-10-18T15:46:19.323484Z"
    },
    "id": "sOSQ31Wd0ITd"
   },
   "outputs": [
    {
     "name": "stderr",
     "output_type": "stream",
     "text": [
      "'(ReadTimeoutError(\"HTTPSConnectionPool(host='huggingface.co', port=443): Read timed out. (read timeout=10)\"), '(Request ID: 120359c5-ac0e-4b20-96ee-a950cf7cd532)')' thrown while requesting HEAD https://huggingface.co/InstaDeepAI/nucleotide-transformer-v2-100m-multi-species/resolve/main/tokenizer_config.json\n",
      "'(ReadTimeoutError(\"HTTPSConnectionPool(host='huggingface.co', port=443): Read timed out. (read timeout=10)\"), '(Request ID: da9d9263-8582-4dfa-a7e1-63f47621bbf5)')' thrown while requesting HEAD https://huggingface.co/InstaDeepAI/nucleotide-transformer-v2-100m-multi-species/resolve/main/config.json\n",
      "'(ReadTimeoutError(\"HTTPSConnectionPool(host='huggingface.co', port=443): Read timed out. (read timeout=10)\"), '(Request ID: fd158713-25a9-4269-8a0d-950b6ee8f640)')' thrown while requesting HEAD https://huggingface.co/InstaDeepAI/nucleotide-transformer-v2-100m-multi-species/resolve/main/esm_config.py\n",
      "'(ReadTimeoutError(\"HTTPSConnectionPool(host='huggingface.co', port=443): Read timed out. (read timeout=10)\"), '(Request ID: 257d767a-bb79-4da1-a602-b5a40fc156c3)')' thrown while requesting HEAD https://huggingface.co/InstaDeepAI/nucleotide-transformer-v2-100m-multi-species/resolve/main/modeling_esm.py\n"
     ]
    }
   ],
   "source": [
    "# Load Instadeep's model\n",
    "tokenizer = AutoTokenizer.from_pretrained(\"InstaDeepAI/nucleotide-transformer-v2-100m-multi-species\", trust_remote_code=True)\n",
    "model = AutoModelForMaskedLM.from_pretrained(\"InstaDeepAI/nucleotide-transformer-v2-100m-multi-species\", trust_remote_code=True)"
   ]
  },
  {
   "cell_type": "code",
   "execution_count": 3,
   "metadata": {
    "colab": {
     "base_uri": "https://localhost:8080/"
    },
    "execution": {
     "iopub.execute_input": "2023-10-18T15:46:19.329108Z",
     "iopub.status.busy": "2023-10-18T15:46:19.328824Z",
     "iopub.status.idle": "2023-10-18T15:46:19.335545Z",
     "shell.execute_reply": "2023-10-18T15:46:19.334713Z"
    },
    "id": "FXki-XaA0-Kh",
    "outputId": "5ba7a185-9eb8-4fee-c95b-bbd3edd3386f"
   },
   "outputs": [
    {
     "name": "stdout",
     "output_type": "stream",
     "text": [
      "966\n"
     ]
    }
   ],
   "source": [
    "max_length = 5800 // 6\n",
    "print(max_length)"
   ]
  },
  {
   "cell_type": "code",
   "execution_count": 4,
   "metadata": {
    "execution": {
     "iopub.execute_input": "2023-10-18T15:46:19.339086Z",
     "iopub.status.busy": "2023-10-18T15:46:19.338878Z",
     "iopub.status.idle": "2023-10-18T15:46:20.897260Z",
     "shell.execute_reply": "2023-10-18T15:46:20.896310Z"
    },
    "id": "OcNPBTGp1I2w"
   },
   "outputs": [],
   "source": [
    "# Load dataset\n",
    "\n",
    "def filter_to_len(df, max_len):\n",
    "    df['length'] = df['coding'].apply(len)\n",
    "    return df[df['length'] <= max_len]\n",
    "\n",
    "train_df = pd.read_csv('data/icodon/training.csv.gz', index_col=0, compression='gzip')\n",
    "test_df = pd.read_csv('data/icodon/testing.csv.gz', index_col=0, compression='gzip')\n",
    "\n",
    "train_df = filter_to_len(train_df, max_length * 6 - 6)\n",
    "test_df = filter_to_len(test_df, max_length * 6 - 6)\n",
    "\n",
    "n_samples = 30000\n",
    "train_df = train_df[:n_samples]\n",
    "test_df = test_df[:1000]"
   ]
  },
  {
   "cell_type": "code",
   "execution_count": 5,
   "metadata": {
    "execution": {
     "iopub.execute_input": "2023-10-18T15:46:20.901564Z",
     "iopub.status.busy": "2023-10-18T15:46:20.901236Z",
     "iopub.status.idle": "2023-10-18T15:46:20.905583Z",
     "shell.execute_reply": "2023-10-18T15:46:20.904781Z"
    },
    "id": "dATHlMnc6GQx"
   },
   "outputs": [],
   "source": [
    "def get_tokens(df, tokenizer):\n",
    "    sequences = df['coding'].values.tolist()\n",
    "    token_ids = tokenizer.batch_encode_plus(sequences,\n",
    "                                            return_tensors='pt',\n",
    "                                            padding='max_length',\n",
    "                                            max_length=max_length)['input_ids']\n",
    "    return token_ids"
   ]
  },
  {
   "cell_type": "code",
   "execution_count": 6,
   "metadata": {
    "colab": {
     "base_uri": "https://localhost:8080/"
    },
    "execution": {
     "iopub.execute_input": "2023-10-18T15:46:20.909064Z",
     "iopub.status.busy": "2023-10-18T15:46:20.908892Z",
     "iopub.status.idle": "2023-10-18T15:46:20.918893Z",
     "shell.execute_reply": "2023-10-18T15:46:20.918203Z"
    },
    "id": "_S9P1_doCbWA",
    "outputId": "d18012a9-e312-4684-941e-31648d413cf4"
   },
   "outputs": [
    {
     "data": {
      "text/plain": [
       "count    30000.000000\n",
       "mean      1622.985300\n",
       "std       1080.348414\n",
       "min          3.000000\n",
       "25%        840.000000\n",
       "50%       1347.000000\n",
       "75%       2115.000000\n",
       "max       5790.000000\n",
       "Name: length, dtype: float64"
      ]
     },
     "execution_count": 6,
     "metadata": {},
     "output_type": "execute_result"
    }
   ],
   "source": [
    "train_df['length'].describe()"
   ]
  },
  {
   "cell_type": "code",
   "execution_count": 7,
   "metadata": {
    "execution": {
     "iopub.execute_input": "2023-10-18T15:46:20.922449Z",
     "iopub.status.busy": "2023-10-18T15:46:20.922194Z",
     "iopub.status.idle": "2023-10-18T15:46:49.258858Z",
     "shell.execute_reply": "2023-10-18T15:46:49.257670Z"
    },
    "id": "XH4FOJ3r6eKr"
   },
   "outputs": [],
   "source": [
    "tokens = get_tokens(train_df, tokenizer)"
   ]
  },
  {
   "cell_type": "code",
   "execution_count": 8,
   "metadata": {
    "execution": {
     "iopub.execute_input": "2023-10-18T15:46:49.263645Z",
     "iopub.status.busy": "2023-10-18T15:46:49.263421Z",
     "iopub.status.idle": "2023-10-18T15:46:54.258960Z",
     "shell.execute_reply": "2023-10-18T15:46:54.257666Z"
    },
    "id": "TZDjJNbo1n0l"
   },
   "outputs": [],
   "source": [
    "device = torch.device('cuda')\n",
    "model = model.to(device)\n",
    "tokens = tokens.to(device='cuda')"
   ]
  },
  {
   "cell_type": "code",
   "execution_count": 9,
   "metadata": {
    "execution": {
     "iopub.execute_input": "2023-10-18T15:46:54.264193Z",
     "iopub.status.busy": "2023-10-18T15:46:54.263845Z",
     "iopub.status.idle": "2023-10-18T15:46:54.271197Z",
     "shell.execute_reply": "2023-10-18T15:46:54.270075Z"
    },
    "id": "v6krbWfN6tL6"
   },
   "outputs": [],
   "source": [
    "def get_embeddings(tokens, model, batch_size=16):\n",
    "    res = []\n",
    "    for i in tqdm(range(0, tokens.shape[0], batch_size)):\n",
    "        batch = tokens[i:min(i+batch_size, tokens.shape[0])]\n",
    "        attention_mask = batch != tokenizer.pad_token_id\n",
    "        embeddings = model(\n",
    "            batch,\n",
    "            attention_mask=attention_mask,\n",
    "            encoder_attention_mask=attention_mask,\n",
    "            output_hidden_states=True\n",
    "        )['hidden_states'][-1].detach().cpu().numpy()\n",
    "        res.append(embeddings)\n",
    "    return np.concatenate(res)"
   ]
  },
  {
   "cell_type": "code",
   "execution_count": 10,
   "metadata": {
    "colab": {
     "base_uri": "https://localhost:8080/",
     "height": 407
    },
    "execution": {
     "iopub.execute_input": "2023-10-18T15:46:54.275970Z",
     "iopub.status.busy": "2023-10-18T15:46:54.275256Z",
     "iopub.status.idle": "2023-10-18T16:01:09.216358Z",
     "shell.execute_reply": "2023-10-18T16:01:09.215369Z"
    },
    "id": "bZFVSKmC1OKv",
    "outputId": "18101336-825d-46bd-8864-be734a2edd2c"
   },
   "outputs": [
    {
     "name": "stderr",
     "output_type": "stream",
     "text": [
      "100%|███████████████████████████████████████████████████████████| 7500/7500 [13:23<00:00,  9.33it/s]\n"
     ]
    }
   ],
   "source": [
    "embeddings = get_embeddings(tokens, model, batch_size=4)"
   ]
  },
  {
   "cell_type": "code",
   "execution_count": 11,
   "metadata": {
    "execution": {
     "iopub.execute_input": "2023-10-18T16:01:09.221763Z",
     "iopub.status.busy": "2023-10-18T16:01:09.221548Z",
     "iopub.status.idle": "2023-10-18T16:01:09.775933Z",
     "shell.execute_reply": "2023-10-18T16:01:09.774889Z"
    },
    "id": "xJv2ywOU9uI_"
   },
   "outputs": [],
   "source": [
    "torch.cuda.empty_cache()"
   ]
  },
  {
   "cell_type": "code",
   "execution_count": 12,
   "metadata": {
    "colab": {
     "base_uri": "https://localhost:8080/"
    },
    "execution": {
     "iopub.execute_input": "2023-10-18T16:01:09.780190Z",
     "iopub.status.busy": "2023-10-18T16:01:09.779929Z",
     "iopub.status.idle": "2023-10-18T16:01:09.784569Z",
     "shell.execute_reply": "2023-10-18T16:01:09.783791Z"
    },
    "id": "_yg1BPkI1eFX",
    "outputId": "f6cb2804-a289-4f9e-c396-e97c1367a319"
   },
   "outputs": [
    {
     "name": "stdout",
     "output_type": "stream",
     "text": [
      "(30000, 966, 512)\n"
     ]
    }
   ],
   "source": [
    "print(embeddings.shape)"
   ]
  },
  {
   "cell_type": "code",
   "execution_count": 13,
   "metadata": {
    "execution": {
     "iopub.execute_input": "2023-10-18T16:01:09.789228Z",
     "iopub.status.busy": "2023-10-18T16:01:09.788890Z",
     "iopub.status.idle": "2023-10-18T16:01:09.793968Z",
     "shell.execute_reply": "2023-10-18T16:01:09.793033Z"
    },
    "id": "IzB_-6_42mys"
   },
   "outputs": [],
   "source": [
    "def pool(embeddings, lengths):\n",
    "    pooled = np.zeros((embeddings.shape[0], embeddings.shape[2]))\n",
    "    for i in range(embeddings.shape[0]):\n",
    "        pooled[i] = np.mean(embeddings[i, :lengths[i], :], axis=0)\n",
    "    return pooled"
   ]
  },
  {
   "cell_type": "code",
   "execution_count": 14,
   "metadata": {
    "execution": {
     "iopub.execute_input": "2023-10-18T16:01:09.797723Z",
     "iopub.status.busy": "2023-10-18T16:01:09.797434Z",
     "iopub.status.idle": "2023-10-18T16:01:09.806979Z",
     "shell.execute_reply": "2023-10-18T16:01:09.806249Z"
    },
    "id": "paH-Y2jmAhNU"
   },
   "outputs": [],
   "source": [
    "# Species one hot encoder\n",
    "if not os.path.isfile('species_encoder.pkl'):\n",
    "    enc = OneHotEncoder().fit(train_df['specie'].values.reshape((-1, 1)))\n",
    "    with open('species_encoder.pkl', 'wb') as pkl:\n",
    "        pickle.dump(enc, pkl)\n",
    "else:\n",
    "    with open('species_encoder.pkl', 'rb') as pkl:\n",
    "        enc = pickle.load(pkl)\n",
    "\n",
    "def add_species(X, df, enc):\n",
    "    X_spec = enc.transform(df['specie'].values.reshape((-1, 1))).toarray()\n",
    "    return np.concatenate([X, X_spec], axis=1)"
   ]
  },
  {
   "cell_type": "code",
   "execution_count": 15,
   "metadata": {
    "colab": {
     "base_uri": "https://localhost:8080/"
    },
    "execution": {
     "iopub.execute_input": "2023-10-18T16:01:09.810785Z",
     "iopub.status.busy": "2023-10-18T16:01:09.810467Z",
     "iopub.status.idle": "2023-10-18T16:01:27.567873Z",
     "shell.execute_reply": "2023-10-18T16:01:27.567382Z"
    },
    "id": "XFJ20LJh7p9S",
    "outputId": "c68d352c-7915-4648-c3b2-57775dcea41c"
   },
   "outputs": [
    {
     "name": "stderr",
     "output_type": "stream",
     "text": [
      "/home/avalente/.conda/envs/transformers2/lib/python3.9/site-packages/sklearn/linear_model/_coordinate_descent.py:633: ConvergenceWarning: Objective did not converge. You might want to increase the number of iterations. Duality gap: 16.37547496742627, tolerance: 2.3876986162076714\n",
      "  model = cd_fast.enet_coordinate_descent_gram(\n",
      "/home/avalente/.conda/envs/transformers2/lib/python3.9/site-packages/sklearn/linear_model/_coordinate_descent.py:633: ConvergenceWarning: Objective did not converge. You might want to increase the number of iterations. Duality gap: 19.029573371295555, tolerance: 2.385475519913863\n",
      "  model = cd_fast.enet_coordinate_descent_gram(\n",
      "/home/avalente/.conda/envs/transformers2/lib/python3.9/site-packages/sklearn/linear_model/_coordinate_descent.py:633: ConvergenceWarning: Objective did not converge. You might want to increase the number of iterations. Duality gap: 15.349651227232243, tolerance: 2.37324362775072\n",
      "  model = cd_fast.enet_coordinate_descent_gram(\n",
      "/home/avalente/.conda/envs/transformers2/lib/python3.9/site-packages/sklearn/linear_model/_coordinate_descent.py:633: ConvergenceWarning: Objective did not converge. You might want to increase the number of iterations. Duality gap: 64.60184796227622, tolerance: 2.3995710208489514\n",
      "  model = cd_fast.enet_coordinate_descent_gram(\n",
      "/home/avalente/.conda/envs/transformers2/lib/python3.9/site-packages/sklearn/linear_model/_coordinate_descent.py:633: ConvergenceWarning: Objective did not converge. You might want to increase the number of iterations. Duality gap: 82.52362966935107, tolerance: 2.385905613472326\n",
      "  model = cd_fast.enet_coordinate_descent_gram(\n"
     ]
    },
    {
     "name": "stdout",
     "output_type": "stream",
     "text": [
      "0.001\n"
     ]
    },
    {
     "name": "stderr",
     "output_type": "stream",
     "text": [
      "/home/avalente/.conda/envs/transformers2/lib/python3.9/site-packages/sklearn/linear_model/_coordinate_descent.py:647: ConvergenceWarning: Objective did not converge. You might want to increase the number of iterations, check the scale of the features or consider increasing regularisation. Duality gap: 3.170e+01, tolerance: 2.983e+00\n",
      "  model = cd_fast.enet_coordinate_descent(\n"
     ]
    }
   ],
   "source": [
    "X = pool(embeddings, train_df['length'].values)\n",
    "X = add_species(X, train_df, enc)\n",
    "y = train_df['decay_rate'].values\n",
    "\n",
    "clf = LassoCV(alphas=[0.001, 0.01, 0.1, 1])\n",
    "clf.fit(X, y)\n",
    "print(clf.alpha_)"
   ]
  },
  {
   "cell_type": "code",
   "execution_count": 16,
   "metadata": {
    "colab": {
     "base_uri": "https://localhost:8080/"
    },
    "execution": {
     "iopub.execute_input": "2023-10-18T16:01:27.573159Z",
     "iopub.status.busy": "2023-10-18T16:01:27.572357Z",
     "iopub.status.idle": "2023-10-18T16:01:55.130787Z",
     "shell.execute_reply": "2023-10-18T16:01:55.129657Z"
    },
    "id": "An6vmzVL7wIt",
    "outputId": "1c0aec7e-c116-4fe6-adae-ea2761955ccf"
   },
   "outputs": [
    {
     "name": "stderr",
     "output_type": "stream",
     "text": [
      "100%|█████████████████████████████████████████████████████████████| 250/250 [00:25<00:00,  9.68it/s]\n"
     ]
    },
    {
     "name": "stdout",
     "output_type": "stream",
     "text": [
      "(1000, 966, 512)\n"
     ]
    }
   ],
   "source": [
    "# Testing\n",
    "tokens_test = get_tokens(test_df, tokenizer)\n",
    "tokens_test = tokens_test.to(device=device)\n",
    "emb_test = get_embeddings(tokens_test, model, batch_size=4)\n",
    "print(emb_test.shape)"
   ]
  },
  {
   "cell_type": "code",
   "execution_count": 17,
   "metadata": {
    "execution": {
     "iopub.execute_input": "2023-10-18T16:01:55.135076Z",
     "iopub.status.busy": "2023-10-18T16:01:55.134863Z",
     "iopub.status.idle": "2023-10-18T16:01:55.338137Z",
     "shell.execute_reply": "2023-10-18T16:01:55.337274Z"
    },
    "id": "tTH7z-FM-gzO"
   },
   "outputs": [],
   "source": [
    "torch.cuda.empty_cache()"
   ]
  },
  {
   "cell_type": "code",
   "execution_count": 18,
   "metadata": {
    "colab": {
     "base_uri": "https://localhost:8080/"
    },
    "execution": {
     "iopub.execute_input": "2023-10-18T16:01:55.342284Z",
     "iopub.status.busy": "2023-10-18T16:01:55.341986Z",
     "iopub.status.idle": "2023-10-18T16:01:55.539648Z",
     "shell.execute_reply": "2023-10-18T16:01:55.539062Z"
    },
    "id": "fLtDWNWx_4mD",
    "outputId": "16f5acf6-4309-432b-b3fe-a07ced0191ca"
   },
   "outputs": [
    {
     "data": {
      "text/plain": [
       "0.11648287184721917"
      ]
     },
     "execution_count": 18,
     "metadata": {},
     "output_type": "execute_result"
    }
   ],
   "source": [
    "X_test = pool(emb_test, test_df['length'].values)\n",
    "X_test = add_species(X_test, test_df, enc)\n",
    "y_test = test_df['decay_rate'].values\n",
    "\n",
    "clf.score(X_test, y_test)"
   ]
  },
  {
   "cell_type": "code",
   "execution_count": 19,
   "metadata": {
    "execution": {
     "iopub.execute_input": "2023-10-18T16:01:55.543306Z",
     "iopub.status.busy": "2023-10-18T16:01:55.543004Z",
     "iopub.status.idle": "2023-10-18T16:01:55.547277Z",
     "shell.execute_reply": "2023-10-18T16:01:55.546924Z"
    },
    "id": "HLN_Uls4ACuD"
   },
   "outputs": [],
   "source": [
    "with open(f'lasso_{n_samples}.pkl', 'wb') as pkl:\n",
    "    pickle.dump(clf, pkl)"
   ]
  },
  {
   "cell_type": "code",
   "execution_count": null,
   "metadata": {
    "id": "-gIK0cAHAVMH"
   },
   "outputs": [],
   "source": []
  }
 ],
 "metadata": {
  "accelerator": "GPU",
  "colab": {
   "gpuType": "T4",
   "provenance": []
  },
  "kernelspec": {
   "display_name": "Python 3",
   "name": "python3"
  },
  "language_info": {
   "codemirror_mode": {
    "name": "ipython",
    "version": 3
   },
   "file_extension": ".py",
   "mimetype": "text/x-python",
   "name": "python",
   "nbconvert_exporter": "python",
   "pygments_lexer": "ipython3",
   "version": "3.9.7"
  }
 },
 "nbformat": 4,
 "nbformat_minor": 0
}
